{
  "nbformat": 4,
  "nbformat_minor": 0,
  "metadata": {
    "colab": {
      "provenance": []
    },
    "kernelspec": {
      "name": "python3",
      "display_name": "Python 3"
    },
    "language_info": {
      "name": "python"
    }
  },
  "cells": [
    {
      "cell_type": "markdown",
      "source": [
        "Aaryan Joshi <br>\n",
        "BACO19112 <br>\n",
        "BE - A <br>\n",
        "NLP mini project <br>\n",
        "POS taggers for Indian languages"
      ],
      "metadata": {
        "id": "ZhvMycZpJlnA"
      }
    },
    {
      "cell_type": "code",
      "execution_count": 1,
      "metadata": {
        "colab": {
          "base_uri": "https://localhost:8080/"
        },
        "id": "AYnwjCaYI6t6",
        "outputId": "646f2f9a-7438-4cb2-85f1-644fdde61166"
      },
      "outputs": [
        {
          "output_type": "stream",
          "name": "stderr",
          "text": [
            "[nltk_data] Downloading package indian to /root/nltk_data...\n",
            "[nltk_data]   Unzipping corpora/indian.zip.\n",
            "[nltk_data] Downloading package tagsets to /root/nltk_data...\n",
            "[nltk_data]   Unzipping help/tagsets.zip.\n"
          ]
        },
        {
          "output_type": "execute_result",
          "data": {
            "text/plain": [
              "True"
            ]
          },
          "metadata": {},
          "execution_count": 1
        }
      ],
      "source": [
        "#Hindi language\n",
        "import nltk\n",
        "# Downloading the Hindi corpus and POS tagger\n",
        "nltk.download('indian')\n",
        "nltk.download('tagsets')\n"
      ]
    },
    {
      "cell_type": "code",
      "source": [
        "import nltk\n",
        "nltk.download('punkt')"
      ],
      "metadata": {
        "colab": {
          "base_uri": "https://localhost:8080/"
        },
        "id": "RHuvdOkfJX-9",
        "outputId": "eae9f217-d12f-4da4-a8ea-c1cf5e0b0215"
      },
      "execution_count": 2,
      "outputs": [
        {
          "output_type": "stream",
          "name": "stderr",
          "text": [
            "[nltk_data] Downloading package punkt to /root/nltk_data...\n",
            "[nltk_data]   Unzipping tokenizers/punkt.zip.\n"
          ]
        },
        {
          "output_type": "execute_result",
          "data": {
            "text/plain": [
              "True"
            ]
          },
          "metadata": {},
          "execution_count": 2
        }
      ]
    },
    {
      "cell_type": "code",
      "source": [
        "# Importing the Hindi POS tagger\n",
        "from nltk.tag import tnt\n",
        "train_data = nltk.corpus.indian.tagged_sents('hindi.pos')\n",
        "tnt_pos_tagger = tnt.TnT()\n",
        "tnt_pos_tagger.train(train_data)\n",
        "# Tagging a sentence\n",
        "sentence = \"अब तो मुझे लगता है कि मैं भी एक फिल्म स्टार बन सकता हूँ\"\n",
        "tokens = nltk.word_tokenize(sentence)\n",
        "pos_tags = tnt_pos_tagger.tag(tokens)\n",
        "# Printing the POS tags\n",
        "for tag in pos_tags:\n",
        " print(tag)"
      ],
      "metadata": {
        "colab": {
          "base_uri": "https://localhost:8080/"
        },
        "id": "rRYNwmiTJEr5",
        "outputId": "27234893-ed48-4486-f44c-a980f4c32f9a"
      },
      "execution_count": 3,
      "outputs": [
        {
          "output_type": "stream",
          "name": "stdout",
          "text": [
            "('अब', 'RB')\n",
            "('तो', 'RP')\n",
            "('मुझे', 'PRP')\n",
            "('लगता', 'Unk')\n",
            "('है', 'VAUX')\n",
            "('कि', 'CC')\n",
            "('मैं', 'PRP')\n",
            "('भी', 'RP')\n",
            "('एक', 'QFNUM')\n",
            "('फिल्म', 'NN')\n",
            "('स्टार', 'Unk')\n",
            "('बन', 'VFM')\n",
            "('सकता', 'VAUX')\n",
            "('हूँ', 'Unk')\n"
          ]
        }
      ]
    },
    {
      "cell_type": "code",
      "source": [
        "#bengali language\n",
        "import nltk\n",
        "# Downloading the Bengali corpus and POS tagger\n",
        "nltk.download('indian')\n",
        "nltk.download('tagsets')"
      ],
      "metadata": {
        "colab": {
          "base_uri": "https://localhost:8080/"
        },
        "id": "YN1LiPw3JHWt",
        "outputId": "8516d516-8441-4bf2-f1d1-fa29dfd7b344"
      },
      "execution_count": 4,
      "outputs": [
        {
          "output_type": "stream",
          "name": "stderr",
          "text": [
            "[nltk_data] Downloading package indian to /root/nltk_data...\n",
            "[nltk_data]   Package indian is already up-to-date!\n",
            "[nltk_data] Downloading package tagsets to /root/nltk_data...\n",
            "[nltk_data]   Package tagsets is already up-to-date!\n"
          ]
        },
        {
          "output_type": "execute_result",
          "data": {
            "text/plain": [
              "True"
            ]
          },
          "metadata": {},
          "execution_count": 4
        }
      ]
    },
    {
      "cell_type": "code",
      "source": [
        "# Importing the Bengali POS tagger\n",
        "from nltk.tag import tnt\n",
        "train_data = nltk.corpus.indian.tagged_sents('bangla.pos')\n",
        "tnt_pos_tagger = tnt.TnT()\n",
        "tnt_pos_tagger.train(train_data)\n",
        "# Tagging a sentence\n",
        "#मैं बंगाली में गाना गाता हूँ।\"\n",
        "sentence = \"আমি বাংলায় গান গাই\"\n",
        "tokens = nltk.word_tokenize(sentence)\n",
        "pos_tags = tnt_pos_tagger.tag(tokens)\n",
        "# Printing the POS tags\n",
        "for tag in pos_tags:\n",
        " print(tag)"
      ],
      "metadata": {
        "colab": {
          "base_uri": "https://localhost:8080/"
        },
        "id": "S7nt7NTbJdPV",
        "outputId": "a4000954-ee9b-432f-a7d8-a4b2c0c05b49"
      },
      "execution_count": 5,
      "outputs": [
        {
          "output_type": "stream",
          "name": "stdout",
          "text": [
            "('আমি', 'PRP')\n",
            "('বাংলায়', 'Unk')\n",
            "('গান', 'NN')\n",
            "('গাই', 'Unk')\n"
          ]
        }
      ]
    },
    {
      "cell_type": "code",
      "source": [
        "#Telugu language\n",
        "import nltk\n",
        "# Downloading the Telugu corpus and POS tagger\n",
        "nltk.download('indian')\n",
        "nltk.download('tagsets')\n"
      ],
      "metadata": {
        "colab": {
          "base_uri": "https://localhost:8080/"
        },
        "id": "LC3jJOTEJgJ6",
        "outputId": "ac46252a-43e8-4214-8f55-3718506be8f6"
      },
      "execution_count": 6,
      "outputs": [
        {
          "output_type": "stream",
          "name": "stderr",
          "text": [
            "[nltk_data] Downloading package indian to /root/nltk_data...\n",
            "[nltk_data]   Package indian is already up-to-date!\n",
            "[nltk_data] Downloading package tagsets to /root/nltk_data...\n",
            "[nltk_data]   Package tagsets is already up-to-date!\n"
          ]
        },
        {
          "output_type": "execute_result",
          "data": {
            "text/plain": [
              "True"
            ]
          },
          "metadata": {},
          "execution_count": 6
        }
      ]
    },
    {
      "cell_type": "code",
      "source": [
        "# Importing the Telugu POS tagger\n",
        "from nltk.tag import tnt\n",
        "train_data = nltk.corpus.indian.tagged_sents('telugu.pos')\n",
        "tnt_pos_tagger = tnt.TnT()\n",
        "tnt_pos_tagger.train(train_data)\n",
        "# Tagging a sentence\n",
        "#\"मैं तेलुगु में गाना गा रहा हूँ।\"\n",
        "sentence = \"నేను తెలుగులో పాట పాడుతున్నా ను\"\n",
        "tokens = nltk.word_tokenize(sentence)\n",
        "pos_tags = tnt_pos_tagger.tag(tokens)\n",
        "# Printing the POS tags\n",
        "for tag in pos_tags:\n",
        " print(tag)"
      ],
      "metadata": {
        "colab": {
          "base_uri": "https://localhost:8080/"
        },
        "id": "OhSfRwscJioT",
        "outputId": "3e731fe8-cb48-4a2b-d0f2-ffb1283fb532"
      },
      "execution_count": 7,
      "outputs": [
        {
          "output_type": "stream",
          "name": "stdout",
          "text": [
            "('నేను', 'PRP')\n",
            "('తెలుగులో', 'NNP')\n",
            "('పాట', 'Unk')\n",
            "('పాడుతున్నా', 'Unk')\n",
            "('ను', 'PREP')\n"
          ]
        }
      ]
    },
    {
      "cell_type": "code",
      "source": [],
      "metadata": {
        "id": "sN_eGI-_JjNI"
      },
      "execution_count": 7,
      "outputs": []
    }
  ]
}