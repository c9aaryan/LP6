{
  "nbformat": 4,
  "nbformat_minor": 0,
  "metadata": {
    "colab": {
      "provenance": []
    },
    "kernelspec": {
      "name": "python3",
      "display_name": "Python 3"
    },
    "language_info": {
      "name": "python"
    }
  },
  "cells": [
    {
      "cell_type": "markdown",
      "source": [
        "Aaryan Joshi<br>\n",
        "BACO19112<br>\n",
        "BE - A - Batch A1<br>\n",
        "NLP mini project"
      ],
      "metadata": {
        "id": "4IBJSnrwXXUc"
      }
    },
    {
      "cell_type": "code",
      "execution_count": 7,
      "metadata": {
        "colab": {
          "base_uri": "https://localhost:8080/",
          "height": 453
        },
        "id": "YNE4eW8YS5PO",
        "outputId": "da0aea8f-a72b-4be2-ef83-833e6092e6f5"
      },
      "outputs": [
        {
          "output_type": "stream",
          "name": "stdout",
          "text": [
            "Looking in indexes: https://pypi.org/simple, https://us-python.pkg.dev/colab-wheels/public/simple/\n",
            "Requirement already satisfied: opencv-python in /usr/local/lib/python3.10/dist-packages (4.7.0.72)\n",
            "Collecting numpy>=1.21.2 (from opencv-python)\n",
            "  Using cached numpy-1.24.3-cp310-cp310-manylinux_2_17_x86_64.manylinux2014_x86_64.whl (17.3 MB)\n",
            "Installing collected packages: numpy\n",
            "\u001b[31mERROR: pip's dependency resolver does not currently take into account all the packages that are installed. This behaviour is the source of the following dependency conflicts.\n",
            "numba 0.56.4 requires numpy<1.24,>=1.18, but you have numpy 1.24.3 which is incompatible.\n",
            "tensorflow 2.12.0 requires numpy<1.24,>=1.22, but you have numpy 1.24.3 which is incompatible.\u001b[0m\u001b[31m\n",
            "\u001b[0mSuccessfully installed numpy-1.24.3\n"
          ]
        },
        {
          "output_type": "display_data",
          "data": {
            "application/vnd.colab-display-data+json": {
              "pip_warning": {
                "packages": [
                  "numpy"
                ]
              }
            }
          },
          "metadata": {}
        },
        {
          "output_type": "stream",
          "name": "stdout",
          "text": [
            "Looking in indexes: https://pypi.org/simple, https://us-python.pkg.dev/colab-wheels/public/simple/\n",
            "Requirement already satisfied: scikit-image in /usr/local/lib/python3.10/dist-packages (0.19.3)\n",
            "Requirement already satisfied: numpy>=1.17.0 in /usr/local/lib/python3.10/dist-packages (from scikit-image) (1.24.3)\n",
            "Requirement already satisfied: scipy>=1.4.1 in /usr/local/lib/python3.10/dist-packages (from scikit-image) (1.10.1)\n",
            "Requirement already satisfied: networkx>=2.2 in /usr/local/lib/python3.10/dist-packages (from scikit-image) (3.1)\n",
            "Requirement already satisfied: pillow!=7.1.0,!=7.1.1,!=8.3.0,>=6.1.0 in /usr/local/lib/python3.10/dist-packages (from scikit-image) (8.4.0)\n",
            "Requirement already satisfied: imageio>=2.4.1 in /usr/local/lib/python3.10/dist-packages (from scikit-image) (2.25.1)\n",
            "Requirement already satisfied: tifffile>=2019.7.26 in /usr/local/lib/python3.10/dist-packages (from scikit-image) (2023.4.12)\n",
            "Requirement already satisfied: PyWavelets>=1.1.1 in /usr/local/lib/python3.10/dist-packages (from scikit-image) (1.4.1)\n",
            "Requirement already satisfied: packaging>=20.0 in /usr/local/lib/python3.10/dist-packages (from scikit-image) (23.1)\n"
          ]
        }
      ],
      "source": [
        "!pip install opencv-python\n",
        "!pip install scikit-image"
      ]
    },
    {
      "cell_type": "code",
      "source": [
        "!pip install mahotas"
      ],
      "metadata": {
        "colab": {
          "base_uri": "https://localhost:8080/"
        },
        "id": "tU_0hSW3WZDs",
        "outputId": "8ce23cde-00c1-4946-e258-2606a8a678da"
      },
      "execution_count": 8,
      "outputs": [
        {
          "output_type": "stream",
          "name": "stdout",
          "text": [
            "Looking in indexes: https://pypi.org/simple, https://us-python.pkg.dev/colab-wheels/public/simple/\n",
            "Requirement already satisfied: mahotas in /usr/local/lib/python3.10/dist-packages (1.4.13)\n",
            "Requirement already satisfied: numpy in /usr/local/lib/python3.10/dist-packages (from mahotas) (1.24.3)\n"
          ]
        }
      ]
    },
    {
      "cell_type": "code",
      "source": [
        "!pip install -U numpy"
      ],
      "metadata": {
        "colab": {
          "base_uri": "https://localhost:8080/"
        },
        "id": "Yni1It9YWpzj",
        "outputId": "828c25ef-6f97-4b9d-cdc4-0733e4d9e3f5"
      },
      "execution_count": 9,
      "outputs": [
        {
          "output_type": "stream",
          "name": "stdout",
          "text": [
            "Looking in indexes: https://pypi.org/simple, https://us-python.pkg.dev/colab-wheels/public/simple/\n",
            "Requirement already satisfied: numpy in /usr/local/lib/python3.10/dist-packages (1.24.3)\n"
          ]
        }
      ]
    },
    {
      "cell_type": "markdown",
      "source": [
        "In case import error <br>\n",
        "try :- <br>\n",
        "!pip uninstall numpy -y <br>\n",
        "!pip install numpy"
      ],
      "metadata": {
        "id": "az4X9hxb0XAZ"
      }
    },
    {
      "cell_type": "code",
      "source": [
        "import cv2\n",
        "import numpy as np\n",
        "import mahotas.features\n",
        "\n",
        "def calculate_zernike_moments(image, radius, degree):\n",
        "    # Convert the image to grayscale\n",
        "    gray = cv2.cvtColor(image, cv2.COLOR_BGR2GRAY)\n",
        "    \n",
        "    # Calculate the Zernike moments\n",
        "    moments = mahotas.features.zernike_moments(gray, radius, degree)\n",
        "    \n",
        "    return moments\n",
        "\n",
        "# Load an example image\n",
        "image_path = \"/content/image-54.png\"\n",
        "image = cv2.imread(image_path)\n",
        "\n",
        "# Set the parameters for Zernike moments\n",
        "radius = 30\n",
        "degree = 8\n",
        "\n",
        "# Calculate the Zernike moments for the image\n",
        "moments = calculate_zernike_moments(image, radius, degree)\n",
        "\n",
        "# Print the Zernike moments\n",
        "print(\"Zernike Moments:\")\n",
        "print(moments)\n"
      ],
      "metadata": {
        "colab": {
          "base_uri": "https://localhost:8080/"
        },
        "id": "upkjJUxqTBU2",
        "outputId": "bd9775fb-75e1-42c5-dba4-55f4e47d7ad4"
      },
      "execution_count": 10,
      "outputs": [
        {
          "output_type": "stream",
          "name": "stdout",
          "text": [
            "Zernike Moments:\n",
            "[0.31830989 0.02361286 0.00248398 0.0369061  0.00897045 0.03137236\n",
            " 0.00151921 0.01894501 0.02995226 0.01061144 0.01610312 0.04480553\n",
            " 0.02761906 0.0158002  0.00758389 0.00819058 0.01697634 0.03092386\n",
            " 0.03013051 0.01054253 0.02012358 0.00714962 0.01247219 0.00201868\n",
            " 0.03927848]\n"
          ]
        }
      ]
    }
  ]
}